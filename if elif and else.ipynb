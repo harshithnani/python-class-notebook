{
 "cells": [
  {
   "cell_type": "markdown",
   "id": "8df32f83",
   "metadata": {},
   "source": [
    "### 1.  Write a program to check if a given number is positive, negative, or zero. \n"
   ]
  },
  {
   "cell_type": "code",
   "execution_count": 6,
   "id": "27e5a022",
   "metadata": {},
   "outputs": [
    {
     "name": "stdout",
     "output_type": "stream",
     "text": [
      "Enter the number:-85\n",
      "a is negative\n"
     ]
    }
   ],
   "source": [
    "a=int(input(\"Enter the number:\"))\n",
    "if a>0:\n",
    "    print(\"a is positive\")\n",
    "elif a<0:\n",
    "    print(\"a is negative\")\n",
    "else:\n",
    "    print(\"a is zero\")"
   ]
  },
  {
   "cell_type": "markdown",
   "id": "0c0e1d4d",
   "metadata": {},
   "source": [
    "### 2. Create a program to determine if a user's input is even or odd.\n"
   ]
  },
  {
   "cell_type": "code",
   "execution_count": 28,
   "id": "408664a4",
   "metadata": {},
   "outputs": [
    {
     "name": "stdout",
     "output_type": "stream",
     "text": [
      "enter the number:98\n",
      "a is even number\n"
     ]
    }
   ],
   "source": [
    "a=int(input(\"enter the number:\"))\n",
    "if a%2==0:\n",
    "    print(\"a is even number\")\n",
    "else:\n",
    "    print(\"a is odd number\")"
   ]
  },
  {
   "cell_type": "markdown",
   "id": "790f8925",
   "metadata": {},
   "source": [
    "### 3.Write a program that asks the user for their age and displays whether they are a child, teenager, or an adult"
   ]
  },
  {
   "cell_type": "code",
   "execution_count": 16,
   "id": "884485d4",
   "metadata": {},
   "outputs": [
    {
     "name": "stdout",
     "output_type": "stream",
     "text": [
      "enter the age:24\n",
      "he is teenager\n"
     ]
    }
   ],
   "source": [
    "age=int(input(\"enter the age:\"))\n",
    "if age in range(0,18):\n",
    "    print(\"he is child\")\n",
    "elif age in range(18,25):\n",
    "    print(\"he is teenager\")\n",
    "elif age>=25:\n",
    "    print(\"he is an adult\")"
   ]
  },
  {
   "cell_type": "markdown",
   "id": "aa131809",
   "metadata": {},
   "source": [
    "### 4.Create a program that checks if a given year is a leap year or not.\n"
   ]
  },
  {
   "cell_type": "code",
   "execution_count": 23,
   "id": "1399a42b",
   "metadata": {},
   "outputs": [
    {
     "name": "stdout",
     "output_type": "stream",
     "text": [
      "enter the year:1968\n",
      "this is leap year\n"
     ]
    }
   ],
   "source": [
    "year = int(input(\"enter the year:\"))\n",
    "if year%4==0:\n",
    "    print(\"this is leap year\")\n",
    "else:\n",
    "    print(\"this is not a leap year\")"
   ]
  },
  {
   "cell_type": "markdown",
   "id": "f032244a",
   "metadata": {},
   "source": [
    "### 5. Write a program to find the largest of three numbers entered by the user.\n"
   ]
  },
  {
   "cell_type": "code",
   "execution_count": 34,
   "id": "bf5247eb",
   "metadata": {},
   "outputs": [
    {
     "name": "stdout",
     "output_type": "stream",
     "text": [
      "enter the number:9\n",
      "enter the number:1\n",
      "enter the number:11\n",
      "c is greater\n"
     ]
    }
   ],
   "source": [
    "a = int(input(\"enter the number:\"))\n",
    "b = int(input(\"enter the number:\"))\n",
    "c = int(input(\"enter the number:\"))\n",
    "if a>=b and a>=c:\n",
    "    print(\"a is greater\")\n",
    "elif b>=a and b>=c:\n",
    "    print(\"b is greater \")\n",
    "elif c>a:\n",
    "    print(\"c is greater\")"
   ]
  },
  {
   "cell_type": "markdown",
   "id": "172898af",
   "metadata": {},
   "source": [
    "### 6. Create a simple grading system that takes a student's score and outputs their corresponding letter grade (A, B, C, D, or F).\n",
    "\n"
   ]
  },
  {
   "cell_type": "code",
   "execution_count": 12,
   "id": "0092cac5",
   "metadata": {},
   "outputs": [
    {
     "name": "stdout",
     "output_type": "stream",
     "text": [
      "enter the score:89\n",
      "he scored b grade\n"
     ]
    }
   ],
   "source": [
    "score = int(input(\"enter the score:\"))\n",
    "if score in range(90,100):\n",
    "    print(\"he scored a grade\")\n",
    "elif score in range(80,90):\n",
    "    print(\"he scored b grade\")\n",
    "elif score in range(70,80):\n",
    "    print(\"he scored c grade\")\n",
    "elif score in range(60,70):\n",
    "    print(\"he scored d grade\")\n",
    "elif score<60:\n",
    "    print(\"he scored f grade\")"
   ]
  },
  {
   "cell_type": "markdown",
   "id": "33ca45bc",
   "metadata": {},
   "source": [
    "### 7. Write a program to check if a given character is a vowel or a consonant.\n"
   ]
  },
  {
   "cell_type": "code",
   "execution_count": 1,
   "id": "70ab82d8",
   "metadata": {},
   "outputs": [
    {
     "name": "stdout",
     "output_type": "stream",
     "text": [
      "enter a name:j\n",
      "the given charatcer is constant\n"
     ]
    }
   ],
   "source": [
    "name = str(input(\"enter a name:\"))\n",
    "if name in ['a','e','i','o','u']:\n",
    "    print(\"the given character is vowel\")\n",
    "else:\n",
    "    print(\"the given charatcer is constant\")"
   ]
  },
  {
   "cell_type": "markdown",
   "id": "a876ba90",
   "metadata": {},
   "source": [
    "### 8.Create a program that calculates the total cost of buying a certain number of items, each priced at 20dollars. If the user buys more than 10 items, apply a 10% discount.\n"
   ]
  },
  {
   "cell_type": "code",
   "execution_count": 26,
   "id": "3507f816",
   "metadata": {},
   "outputs": [
    {
     "name": "stdout",
     "output_type": "stream",
     "text": [
      "enter the number of products:12\n",
      "you will get 10% discount\n"
     ]
    }
   ],
   "source": [
    "total_num = int(input(\"enter the number of products:\"))\n",
    "if total_num >10:\n",
    "    discount = (total_num*20)*0.10\n",
    "    total_cost = total_num - discount\n",
    "    print(\"you will get 10% discount\")\n",
    "else:\n",
    "    total_cost =  total_num*20\n",
    "    print(\"the total cost is:\",total_num*20)"
   ]
  },
  {
   "cell_type": "markdown",
   "id": "2305a9ca",
   "metadata": {},
   "source": [
    "### 9.Write a program that determines if a given string is a palindrome (reads the same forwards and backwards) or not.\n"
   ]
  },
  {
   "cell_type": "code",
   "execution_count": 29,
   "id": "3c427e0c",
   "metadata": {},
   "outputs": [
    {
     "name": "stdout",
     "output_type": "stream",
     "text": [
      "enter a string:madam\n",
      "the given string is in palindrome\n"
     ]
    }
   ],
   "source": [
    "a = str(input(\"enter a string:\"))\n",
    "a = a.casefold()\n",
    "rev_str = reversed(a)\n",
    "if list(a)==list(rev_str):\n",
    "    print(\"the given string is in palindrome\")\n",
    "else:\n",
    "    print(\"the given string is not palindrome\")"
   ]
  },
  {
   "cell_type": "markdown",
   "id": "dfc2ff30",
   "metadata": {},
   "source": [
    "###  10. Create a small game where the user needs to guess a secret number, and the program gives hints like \"Too high\" or \"Too low\" until the user guesses the correct number.\n"
   ]
  },
  {
   "cell_type": "code",
   "execution_count": 27,
   "id": "47700e13",
   "metadata": {},
   "outputs": [
    {
     "name": "stdout",
     "output_type": "stream",
     "text": [
      "please enter a correct number:58\n",
      "entered number is too low\n"
     ]
    }
   ],
   "source": [
    "import random\n",
    "number = random.randint(1, 100)\n",
    "user_num = int(input(\"please enter a correct number:\"))\n",
    "if user_num>number:\n",
    "    print(\"entered number is too high\")\n",
    "elif user_num == number:\n",
    "    print(\"entered number is correct\")\n",
    "elif user_num<number:\n",
    "    print(\"entered number is too low\")"
   ]
  },
  {
   "cell_type": "code",
   "execution_count": null,
   "id": "8e6d929b",
   "metadata": {},
   "outputs": [],
   "source": []
  }
 ],
 "metadata": {
  "kernelspec": {
   "display_name": "Python 3 (ipykernel)",
   "language": "python",
   "name": "python3"
  },
  "language_info": {
   "codemirror_mode": {
    "name": "ipython",
    "version": 3
   },
   "file_extension": ".py",
   "mimetype": "text/x-python",
   "name": "python",
   "nbconvert_exporter": "python",
   "pygments_lexer": "ipython3",
   "version": "3.9.13"
  }
 },
 "nbformat": 4,
 "nbformat_minor": 5
}
