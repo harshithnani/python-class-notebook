{
 "cells": [
  {
   "cell_type": "code",
   "execution_count": 21,
   "id": "8cb85608",
   "metadata": {},
   "outputs": [],
   "source": [
    "a={1,2,3,4}"
   ]
  },
  {
   "cell_type": "code",
   "execution_count": 22,
   "id": "c736f5a7",
   "metadata": {},
   "outputs": [
    {
     "data": {
      "text/plain": [
       "{1, 2, 3, 4}"
      ]
     },
     "execution_count": 22,
     "metadata": {},
     "output_type": "execute_result"
    }
   ],
   "source": [
    "a"
   ]
  },
  {
   "cell_type": "code",
   "execution_count": 23,
   "id": "d5d97e0d",
   "metadata": {},
   "outputs": [],
   "source": [
    "a.add('5')"
   ]
  },
  {
   "cell_type": "code",
   "execution_count": 24,
   "id": "c94e56cb",
   "metadata": {},
   "outputs": [
    {
     "data": {
      "text/plain": [
       "{1, 2, 3, 4, '5'}"
      ]
     },
     "execution_count": 24,
     "metadata": {},
     "output_type": "execute_result"
    }
   ],
   "source": [
    "a"
   ]
  },
  {
   "cell_type": "code",
   "execution_count": 25,
   "id": "4f20fb1b",
   "metadata": {},
   "outputs": [],
   "source": [
    "a.add('s')"
   ]
  },
  {
   "cell_type": "code",
   "execution_count": 26,
   "id": "a7b3e38c",
   "metadata": {},
   "outputs": [
    {
     "data": {
      "text/plain": [
       "{1, 2, 3, 4, '5', 's'}"
      ]
     },
     "execution_count": 26,
     "metadata": {},
     "output_type": "execute_result"
    }
   ],
   "source": [
    "a"
   ]
  },
  {
   "cell_type": "code",
   "execution_count": 7,
   "id": "014635f8",
   "metadata": {},
   "outputs": [],
   "source": [
    "#add function is used to add a new string or an integer to the previous assigned set\n"
   ]
  },
  {
   "cell_type": "code",
   "execution_count": 34,
   "id": "15037c9d",
   "metadata": {},
   "outputs": [],
   "source": [
    "#clear function is used to clear all the values in the set "
   ]
  },
  {
   "cell_type": "code",
   "execution_count": 35,
   "id": "f75ac0bd",
   "metadata": {},
   "outputs": [
    {
     "data": {
      "text/plain": [
       "{1, 2, 3, 4, '5', 's'}"
      ]
     },
     "execution_count": 35,
     "metadata": {},
     "output_type": "execute_result"
    }
   ],
   "source": [
    "a.copy()"
   ]
  },
  {
   "cell_type": "code",
   "execution_count": 36,
   "id": "4e0cc623",
   "metadata": {},
   "outputs": [
    {
     "data": {
      "text/plain": [
       "{1, 2, 3, 4, '5', 's'}"
      ]
     },
     "execution_count": 36,
     "metadata": {},
     "output_type": "execute_result"
    }
   ],
   "source": [
    "a"
   ]
  },
  {
   "cell_type": "code",
   "execution_count": 56,
   "id": "7fd87195",
   "metadata": {},
   "outputs": [],
   "source": [
    "a={1,2,3,4}\n",
    "b={4,5,2,1}\n"
   ]
  },
  {
   "cell_type": "code",
   "execution_count": 57,
   "id": "066c0eac",
   "metadata": {},
   "outputs": [
    {
     "data": {
      "text/plain": [
       "{3}"
      ]
     },
     "execution_count": 57,
     "metadata": {},
     "output_type": "execute_result"
    }
   ],
   "source": [
    "a.difference(b)"
   ]
  },
  {
   "cell_type": "code",
   "execution_count": 58,
   "id": "1abb8a40",
   "metadata": {},
   "outputs": [
    {
     "data": {
      "text/plain": [
       "{5}"
      ]
     },
     "execution_count": 58,
     "metadata": {},
     "output_type": "execute_result"
    }
   ],
   "source": [
    "b.difference(a)"
   ]
  },
  {
   "cell_type": "code",
   "execution_count": 59,
   "id": "f56f62a1",
   "metadata": {},
   "outputs": [],
   "source": [
    "#difference operation is used to find the difference between the two set as like the ven diagram the intersection of the two set is done here "
   ]
  },
  {
   "cell_type": "code",
   "execution_count": 60,
   "id": "774a62e1",
   "metadata": {},
   "outputs": [],
   "source": [
    "a.difference_update(b)"
   ]
  },
  {
   "cell_type": "code",
   "execution_count": 61,
   "id": "cc130735",
   "metadata": {},
   "outputs": [
    {
     "data": {
      "text/plain": [
       "{3}"
      ]
     },
     "execution_count": 61,
     "metadata": {},
     "output_type": "execute_result"
    }
   ],
   "source": [
    "a"
   ]
  },
  {
   "cell_type": "code",
   "execution_count": 66,
   "id": "37517b84",
   "metadata": {},
   "outputs": [],
   "source": [
    "b.difference_update(a)"
   ]
  },
  {
   "cell_type": "code",
   "execution_count": 67,
   "id": "a3f67720",
   "metadata": {},
   "outputs": [
    {
     "data": {
      "text/plain": [
       "{1, 2, 4, 5}"
      ]
     },
     "execution_count": 67,
     "metadata": {},
     "output_type": "execute_result"
    }
   ],
   "source": [
    "b"
   ]
  },
  {
   "cell_type": "code",
   "execution_count": 70,
   "id": "57a28a01",
   "metadata": {},
   "outputs": [],
   "source": [
    "#the difference update operation is used to update the differenced set in the previous programs"
   ]
  },
  {
   "cell_type": "code",
   "execution_count": 78,
   "id": "78e0d775",
   "metadata": {},
   "outputs": [],
   "source": [
    "a={1,2,3,4}"
   ]
  },
  {
   "cell_type": "code",
   "execution_count": 79,
   "id": "caf40a5c",
   "metadata": {},
   "outputs": [
    {
     "data": {
      "text/plain": [
       "{1, 2, 3, 4}"
      ]
     },
     "execution_count": 79,
     "metadata": {},
     "output_type": "execute_result"
    }
   ],
   "source": [
    "a"
   ]
  },
  {
   "cell_type": "code",
   "execution_count": 80,
   "id": "0ac51f05",
   "metadata": {},
   "outputs": [],
   "source": [
    "a.discard(3)"
   ]
  },
  {
   "cell_type": "code",
   "execution_count": 81,
   "id": "172f4ebd",
   "metadata": {},
   "outputs": [
    {
     "data": {
      "text/plain": [
       "{1, 2, 4}"
      ]
     },
     "execution_count": 81,
     "metadata": {},
     "output_type": "execute_result"
    }
   ],
   "source": [
    "a"
   ]
  },
  {
   "cell_type": "code",
   "execution_count": 82,
   "id": "b90013c2",
   "metadata": {},
   "outputs": [],
   "source": [
    "a.discard(4)"
   ]
  },
  {
   "cell_type": "code",
   "execution_count": 83,
   "id": "c67b9cb3",
   "metadata": {},
   "outputs": [
    {
     "data": {
      "text/plain": [
       "{1, 2}"
      ]
     },
     "execution_count": 83,
     "metadata": {},
     "output_type": "execute_result"
    }
   ],
   "source": [
    "a"
   ]
  },
  {
   "cell_type": "code",
   "execution_count": 84,
   "id": "af51207a",
   "metadata": {},
   "outputs": [],
   "source": [
    "#discard operation is used to remove the string or the value in the assigned set the function is be call by us!!"
   ]
  },
  {
   "cell_type": "code",
   "execution_count": 87,
   "id": "99f73799",
   "metadata": {},
   "outputs": [],
   "source": [
    "a={1,2,3,4}\n",
    "b={4,5,1,7}"
   ]
  },
  {
   "cell_type": "code",
   "execution_count": 88,
   "id": "42c818aa",
   "metadata": {},
   "outputs": [
    {
     "data": {
      "text/plain": [
       "{1, 4}"
      ]
     },
     "execution_count": 88,
     "metadata": {},
     "output_type": "execute_result"
    }
   ],
   "source": [
    "a.intersection(b)"
   ]
  },
  {
   "cell_type": "code",
   "execution_count": 89,
   "id": "ac9beff3",
   "metadata": {},
   "outputs": [
    {
     "data": {
      "text/plain": [
       "{1, 4}"
      ]
     },
     "execution_count": 89,
     "metadata": {},
     "output_type": "execute_result"
    }
   ],
   "source": [
    "b.intersection(a)"
   ]
  },
  {
   "cell_type": "code",
   "execution_count": 90,
   "id": "12bc05c0",
   "metadata": {},
   "outputs": [],
   "source": [
    "#intersection is used to intersect the two sets a and b and give the output as the intersected values "
   ]
  },
  {
   "cell_type": "code",
   "execution_count": 91,
   "id": "1cd209d4",
   "metadata": {},
   "outputs": [],
   "source": [
    "a.intersection_update(b)"
   ]
  },
  {
   "cell_type": "code",
   "execution_count": 92,
   "id": "fb6dfa17",
   "metadata": {},
   "outputs": [
    {
     "data": {
      "text/plain": [
       "{1, 4}"
      ]
     },
     "execution_count": 92,
     "metadata": {},
     "output_type": "execute_result"
    }
   ],
   "source": [
    "a"
   ]
  },
  {
   "cell_type": "code",
   "execution_count": 93,
   "id": "514742e0",
   "metadata": {},
   "outputs": [],
   "source": [
    "#here intersection update is as same as like the difference update it will update the changes that done by us "
   ]
  },
  {
   "cell_type": "code",
   "execution_count": 94,
   "id": "bb468303",
   "metadata": {},
   "outputs": [],
   "source": [
    "a={1,2,3,4}\n",
    "b={4,5,1,9}"
   ]
  },
  {
   "cell_type": "code",
   "execution_count": 95,
   "id": "ed2f03a1",
   "metadata": {},
   "outputs": [
    {
     "data": {
      "text/plain": [
       "False"
      ]
     },
     "execution_count": 95,
     "metadata": {},
     "output_type": "execute_result"
    }
   ],
   "source": [
    "a.isdisjoint(b)"
   ]
  },
  {
   "cell_type": "code",
   "execution_count": 96,
   "id": "e4a766b1",
   "metadata": {},
   "outputs": [],
   "source": [
    "a={1,2,3}\n",
    "b={4,5,6}"
   ]
  },
  {
   "cell_type": "code",
   "execution_count": 97,
   "id": "bff7fd94",
   "metadata": {},
   "outputs": [
    {
     "data": {
      "text/plain": [
       "True"
      ]
     },
     "execution_count": 97,
     "metadata": {},
     "output_type": "execute_result"
    }
   ],
   "source": [
    "a.isdisjoint(b)"
   ]
  },
  {
   "cell_type": "code",
   "execution_count": 98,
   "id": "5b7ff561",
   "metadata": {},
   "outputs": [],
   "source": [
    "#the isdisjoint function is used to return the true or false between the two sets by finding no intersection values that are be placed between the two sets "
   ]
  },
  {
   "cell_type": "code",
   "execution_count": 99,
   "id": "0897c96e",
   "metadata": {},
   "outputs": [],
   "source": [
    "a={1,2,3,4}\n",
    "b={1,2,6,8}"
   ]
  },
  {
   "cell_type": "code",
   "execution_count": 100,
   "id": "0295b9e8",
   "metadata": {},
   "outputs": [
    {
     "data": {
      "text/plain": [
       "False"
      ]
     },
     "execution_count": 100,
     "metadata": {},
     "output_type": "execute_result"
    }
   ],
   "source": [
    "a.issubset(b)"
   ]
  },
  {
   "cell_type": "code",
   "execution_count": 101,
   "id": "1cb66dbb",
   "metadata": {},
   "outputs": [],
   "source": [
    "a={1,2,3,4}\n",
    "b={1,2,3,4}"
   ]
  },
  {
   "cell_type": "code",
   "execution_count": 102,
   "id": "b05675ed",
   "metadata": {},
   "outputs": [
    {
     "data": {
      "text/plain": [
       "True"
      ]
     },
     "execution_count": 102,
     "metadata": {},
     "output_type": "execute_result"
    }
   ],
   "source": [
    "a.issubset(b)"
   ]
  },
  {
   "cell_type": "code",
   "execution_count": 103,
   "id": "c864d34d",
   "metadata": {},
   "outputs": [
    {
     "data": {
      "text/plain": [
       "True"
      ]
     },
     "execution_count": 103,
     "metadata": {},
     "output_type": "execute_result"
    }
   ],
   "source": [
    "b.issubset(a)"
   ]
  },
  {
   "cell_type": "code",
   "execution_count": 104,
   "id": "963f3498",
   "metadata": {},
   "outputs": [],
   "source": [
    "#the issubset function is used to find wheather any set is been repeated with the another set "
   ]
  },
  {
   "cell_type": "code",
   "execution_count": 108,
   "id": "fdd60443",
   "metadata": {},
   "outputs": [],
   "source": [
    "a={1,2,3,4}\n",
    "b={1,2,3,4}"
   ]
  },
  {
   "cell_type": "code",
   "execution_count": 109,
   "id": "36ffa083",
   "metadata": {},
   "outputs": [
    {
     "data": {
      "text/plain": [
       "True"
      ]
     },
     "execution_count": 109,
     "metadata": {},
     "output_type": "execute_result"
    }
   ],
   "source": [
    "a.issuperset(b)"
   ]
  },
  {
   "cell_type": "code",
   "execution_count": 110,
   "id": "6150ee32",
   "metadata": {},
   "outputs": [],
   "source": [
    "a={1,2,3,4}\n",
    "b={1,2,6,8}"
   ]
  },
  {
   "cell_type": "code",
   "execution_count": 111,
   "id": "a03bffa8",
   "metadata": {},
   "outputs": [
    {
     "data": {
      "text/plain": [
       "False"
      ]
     },
     "execution_count": 111,
     "metadata": {},
     "output_type": "execute_result"
    }
   ],
   "source": [
    "a.issuperset(b)"
   ]
  },
  {
   "cell_type": "code",
   "execution_count": 112,
   "id": "c064d5a4",
   "metadata": {},
   "outputs": [],
   "source": [
    "#the issuperset function is used to find any repeated set that have more than two sets which are repeated is known as the issuperset"
   ]
  },
  {
   "cell_type": "code",
   "execution_count": 125,
   "id": "96de1476",
   "metadata": {},
   "outputs": [],
   "source": [
    "a={1,2,3,4}\n",
    "b={1,2,6,8}"
   ]
  },
  {
   "cell_type": "code",
   "execution_count": 127,
   "id": "d34b2883",
   "metadata": {},
   "outputs": [
    {
     "data": {
      "text/plain": [
       "2"
      ]
     },
     "execution_count": 127,
     "metadata": {},
     "output_type": "execute_result"
    }
   ],
   "source": [
    "a.pop()"
   ]
  },
  {
   "cell_type": "code",
   "execution_count": 128,
   "id": "003286ed",
   "metadata": {},
   "outputs": [],
   "source": [
    "#cant understand the pop function"
   ]
  },
  {
   "cell_type": "code",
   "execution_count": 129,
   "id": "c265ff65",
   "metadata": {},
   "outputs": [],
   "source": [
    "a={1,2,3,4,5}\n",
    "b={1,5,6,3,7}"
   ]
  },
  {
   "cell_type": "code",
   "execution_count": 130,
   "id": "2384320b",
   "metadata": {},
   "outputs": [],
   "source": [
    "b.remove(1)"
   ]
  },
  {
   "cell_type": "code",
   "execution_count": 131,
   "id": "1352bd3d",
   "metadata": {},
   "outputs": [
    {
     "data": {
      "text/plain": [
       "{3, 5, 6, 7}"
      ]
     },
     "execution_count": 131,
     "metadata": {},
     "output_type": "execute_result"
    }
   ],
   "source": [
    "b"
   ]
  },
  {
   "cell_type": "code",
   "execution_count": 132,
   "id": "3273b125",
   "metadata": {},
   "outputs": [],
   "source": [
    "b.remove(7)"
   ]
  },
  {
   "cell_type": "code",
   "execution_count": 133,
   "id": "86b3f514",
   "metadata": {},
   "outputs": [
    {
     "data": {
      "text/plain": [
       "{3, 5, 6}"
      ]
     },
     "execution_count": 133,
     "metadata": {},
     "output_type": "execute_result"
    }
   ],
   "source": [
    "b"
   ]
  },
  {
   "cell_type": "code",
   "execution_count": 135,
   "id": "c938af2c",
   "metadata": {},
   "outputs": [],
   "source": [
    "a.remove(5)"
   ]
  },
  {
   "cell_type": "code",
   "execution_count": 136,
   "id": "ddc1eaa0",
   "metadata": {},
   "outputs": [
    {
     "data": {
      "text/plain": [
       "{1, 2, 3, 4}"
      ]
     },
     "execution_count": 136,
     "metadata": {},
     "output_type": "execute_result"
    }
   ],
   "source": [
    "a"
   ]
  },
  {
   "cell_type": "code",
   "execution_count": 137,
   "id": "d366c3b0",
   "metadata": {},
   "outputs": [],
   "source": [
    "a.remove(2)"
   ]
  },
  {
   "cell_type": "code",
   "execution_count": 138,
   "id": "be9b244d",
   "metadata": {},
   "outputs": [
    {
     "data": {
      "text/plain": [
       "{1, 3, 4}"
      ]
     },
     "execution_count": 138,
     "metadata": {},
     "output_type": "execute_result"
    }
   ],
   "source": [
    "a"
   ]
  },
  {
   "cell_type": "code",
   "execution_count": null,
   "id": "2666cede",
   "metadata": {},
   "outputs": [],
   "source": []
  },
  {
   "cell_type": "code",
   "execution_count": null,
   "id": "7f9aa50f",
   "metadata": {},
   "outputs": [],
   "source": []
  },
  {
   "cell_type": "code",
   "execution_count": 143,
   "id": "cf6e3dd9",
   "metadata": {},
   "outputs": [],
   "source": [
    "a={1,2,3,7}\n",
    "b={3,5,7}"
   ]
  },
  {
   "cell_type": "code",
   "execution_count": 144,
   "id": "c11f2260",
   "metadata": {},
   "outputs": [
    {
     "data": {
      "text/plain": [
       "{1, 2, 5}"
      ]
     },
     "execution_count": 144,
     "metadata": {},
     "output_type": "execute_result"
    }
   ],
   "source": [
    "a.symmetric_difference(b)"
   ]
  },
  {
   "cell_type": "code",
   "execution_count": 146,
   "id": "2638cf08",
   "metadata": {},
   "outputs": [
    {
     "data": {
      "text/plain": [
       "{1, 2, 5}"
      ]
     },
     "execution_count": 146,
     "metadata": {},
     "output_type": "execute_result"
    }
   ],
   "source": [
    "b.symmetric_difference(a)"
   ]
  },
  {
   "cell_type": "code",
   "execution_count": 151,
   "id": "6dbffccd",
   "metadata": {},
   "outputs": [],
   "source": [
    "#symmetric difference function is used to find the same values in the both set and tries to remove the value and output the balance values as the ouput "
   ]
  },
  {
   "cell_type": "code",
   "execution_count": 148,
   "id": "0803fd8b",
   "metadata": {},
   "outputs": [],
   "source": [
    "a.symmetric_difference_update(b)"
   ]
  },
  {
   "cell_type": "code",
   "execution_count": 149,
   "id": "87b971dd",
   "metadata": {},
   "outputs": [
    {
     "data": {
      "text/plain": [
       "{1, 2, 5}"
      ]
     },
     "execution_count": 149,
     "metadata": {},
     "output_type": "execute_result"
    }
   ],
   "source": [
    "a"
   ]
  },
  {
   "cell_type": "code",
   "execution_count": 150,
   "id": "84fd4f0b",
   "metadata": {},
   "outputs": [],
   "source": [
    "#symmetric difference update is used as same as the intersection update and the difference update"
   ]
  },
  {
   "cell_type": "code",
   "execution_count": 152,
   "id": "63cb4e3f",
   "metadata": {},
   "outputs": [
    {
     "data": {
      "text/plain": [
       "{1, 2, 3, 5, 7}"
      ]
     },
     "execution_count": 152,
     "metadata": {},
     "output_type": "execute_result"
    }
   ],
   "source": [
    "a.union(b)"
   ]
  },
  {
   "cell_type": "code",
   "execution_count": 153,
   "id": "c8e0f764",
   "metadata": {},
   "outputs": [],
   "source": [
    "#union function is used to mingle all the values in the set as the single set \n"
   ]
  },
  {
   "cell_type": "code",
   "execution_count": 155,
   "id": "836f770f",
   "metadata": {},
   "outputs": [],
   "source": [
    "a.update(b)"
   ]
  },
  {
   "cell_type": "code",
   "execution_count": 156,
   "id": "ef4b623a",
   "metadata": {},
   "outputs": [
    {
     "data": {
      "text/plain": [
       "{1, 2, 3, 5, 7}"
      ]
     },
     "execution_count": 156,
     "metadata": {},
     "output_type": "execute_result"
    }
   ],
   "source": [
    "a"
   ]
  },
  {
   "cell_type": "code",
   "execution_count": 157,
   "id": "533c297e",
   "metadata": {},
   "outputs": [],
   "source": [
    "#update function is tries to update the previous functions that have been done by a and b particularly"
   ]
  },
  {
   "cell_type": "code",
   "execution_count": null,
   "id": "0a4d56aa",
   "metadata": {},
   "outputs": [],
   "source": []
  }
 ],
 "metadata": {
  "kernelspec": {
   "display_name": "Python 3 (ipykernel)",
   "language": "python",
   "name": "python3"
  },
  "language_info": {
   "codemirror_mode": {
    "name": "ipython",
    "version": 3
   },
   "file_extension": ".py",
   "mimetype": "text/x-python",
   "name": "python",
   "nbconvert_exporter": "python",
   "pygments_lexer": "ipython3",
   "version": "3.9.13"
  }
 },
 "nbformat": 4,
 "nbformat_minor": 5
}
