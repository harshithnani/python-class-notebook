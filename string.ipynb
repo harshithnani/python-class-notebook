{
 "cells": [
  {
   "cell_type": "code",
   "execution_count": 2,
   "id": "1bc49765",
   "metadata": {},
   "outputs": [],
   "source": [
    "a = 'hello'"
   ]
  },
  {
   "cell_type": "code",
   "execution_count": 3,
   "id": "18f73aec",
   "metadata": {},
   "outputs": [
    {
     "data": {
      "text/plain": [
       "'hello'"
      ]
     },
     "execution_count": 3,
     "metadata": {},
     "output_type": "execute_result"
    }
   ],
   "source": [
    "a"
   ]
  },
  {
   "cell_type": "code",
   "execution_count": 4,
   "id": "f7a3e54d",
   "metadata": {},
   "outputs": [
    {
     "data": {
      "text/plain": [
       "'Hello'"
      ]
     },
     "execution_count": 4,
     "metadata": {},
     "output_type": "execute_result"
    }
   ],
   "source": [
    "a.capitalize()"
   ]
  },
  {
   "cell_type": "code",
   "execution_count": 5,
   "id": "e7ebb20c",
   "metadata": {},
   "outputs": [],
   "source": [
    "#captilize function is used to convert the first word as the upper case"
   ]
  },
  {
   "cell_type": "code",
   "execution_count": 6,
   "id": "92478348",
   "metadata": {},
   "outputs": [],
   "source": [
    "a = 'HELlo'"
   ]
  },
  {
   "cell_type": "code",
   "execution_count": 7,
   "id": "11617284",
   "metadata": {},
   "outputs": [
    {
     "data": {
      "text/plain": [
       "'HELlo'"
      ]
     },
     "execution_count": 7,
     "metadata": {},
     "output_type": "execute_result"
    }
   ],
   "source": [
    "a"
   ]
  },
  {
   "cell_type": "code",
   "execution_count": 8,
   "id": "13a7be5e",
   "metadata": {},
   "outputs": [
    {
     "data": {
      "text/plain": [
       "'hello'"
      ]
     },
     "execution_count": 8,
     "metadata": {},
     "output_type": "execute_result"
    }
   ],
   "source": [
    "a.casefold()"
   ]
  },
  {
   "cell_type": "code",
   "execution_count": 9,
   "id": "41fe1eda",
   "metadata": {},
   "outputs": [],
   "source": [
    "#casefold function is used to convert all the capital letters intlo lowercases"
   ]
  },
  {
   "cell_type": "code",
   "execution_count": 10,
   "id": "9af01392",
   "metadata": {},
   "outputs": [],
   "source": [
    "a= '1 2 3 helo'"
   ]
  },
  {
   "cell_type": "code",
   "execution_count": 11,
   "id": "b43f7748",
   "metadata": {},
   "outputs": [
    {
     "data": {
      "text/plain": [
       "'1 2 3 helo'"
      ]
     },
     "execution_count": 11,
     "metadata": {},
     "output_type": "execute_result"
    }
   ],
   "source": [
    "a"
   ]
  },
  {
   "cell_type": "code",
   "execution_count": 12,
   "id": "b9c06d6e",
   "metadata": {},
   "outputs": [
    {
     "data": {
      "text/plain": [
       "'                                             1 2 3 helo                                             '"
      ]
     },
     "execution_count": 12,
     "metadata": {},
     "output_type": "execute_result"
    }
   ],
   "source": [
    "a.center(100)"
   ]
  },
  {
   "cell_type": "code",
   "execution_count": 13,
   "id": "3bca8012",
   "metadata": {},
   "outputs": [],
   "source": [
    "#center operation is used to make the string in the center with the given assigned length "
   ]
  },
  {
   "cell_type": "code",
   "execution_count": 14,
   "id": "2ce198df",
   "metadata": {},
   "outputs": [],
   "source": [
    "a = 'hello hii'"
   ]
  },
  {
   "cell_type": "code",
   "execution_count": 15,
   "id": "561e6932",
   "metadata": {},
   "outputs": [
    {
     "data": {
      "text/plain": [
       "'hello hii'"
      ]
     },
     "execution_count": 15,
     "metadata": {},
     "output_type": "execute_result"
    }
   ],
   "source": [
    "a"
   ]
  },
  {
   "cell_type": "code",
   "execution_count": 16,
   "id": "f85427a9",
   "metadata": {},
   "outputs": [
    {
     "data": {
      "text/plain": [
       "1"
      ]
     },
     "execution_count": 16,
     "metadata": {},
     "output_type": "execute_result"
    }
   ],
   "source": [
    "a.count(a)"
   ]
  },
  {
   "cell_type": "code",
   "execution_count": 18,
   "id": "9fba78c0",
   "metadata": {},
   "outputs": [
    {
     "data": {
      "text/plain": [
       "b'hello hii'"
      ]
     },
     "execution_count": 18,
     "metadata": {},
     "output_type": "execute_result"
    }
   ],
   "source": [
    "a.encode()"
   ]
  },
  {
   "cell_type": "code",
   "execution_count": 26,
   "id": "f9193d47",
   "metadata": {},
   "outputs": [
    {
     "data": {
      "text/plain": [
       "False"
      ]
     },
     "execution_count": 26,
     "metadata": {},
     "output_type": "execute_result"
    }
   ],
   "source": [
    "a.endswith('h')"
   ]
  },
  {
   "cell_type": "code",
   "execution_count": 27,
   "id": "91275f08",
   "metadata": {},
   "outputs": [
    {
     "data": {
      "text/plain": [
       "True"
      ]
     },
     "execution_count": 27,
     "metadata": {},
     "output_type": "execute_result"
    }
   ],
   "source": [
    "a.endswith('i')"
   ]
  },
  {
   "cell_type": "code",
   "execution_count": 28,
   "id": "8dea0da8",
   "metadata": {},
   "outputs": [],
   "source": [
    "#endswith option is used to identify wheather the given string is true or false "
   ]
  },
  {
   "cell_type": "code",
   "execution_count": 46,
   "id": "f6aad9c2",
   "metadata": {},
   "outputs": [],
   "source": [
    "a = 'hello IAM FINE how are you'"
   ]
  },
  {
   "cell_type": "code",
   "execution_count": 50,
   "id": "49048e05",
   "metadata": {},
   "outputs": [
    {
     "data": {
      "text/plain": [
       "'hello IAM FINE how are you'"
      ]
     },
     "execution_count": 50,
     "metadata": {},
     "output_type": "execute_result"
    }
   ],
   "source": [
    "a.expandtabs(10)\n"
   ]
  },
  {
   "cell_type": "code",
   "execution_count": 51,
   "id": "60582aaf",
   "metadata": {},
   "outputs": [],
   "source": [
    "#expandtabs used yo return the same string with the same spaces "
   ]
  },
  {
   "cell_type": "code",
   "execution_count": 60,
   "id": "811c2a34",
   "metadata": {},
   "outputs": [
    {
     "data": {
      "text/plain": [
       "25"
      ]
     },
     "execution_count": 60,
     "metadata": {},
     "output_type": "execute_result"
    }
   ],
   "source": [
    "a.find('u')"
   ]
  },
  {
   "cell_type": "code",
   "execution_count": 61,
   "id": "b5120161",
   "metadata": {},
   "outputs": [
    {
     "data": {
      "text/plain": [
       "-1"
      ]
     },
     "execution_count": 61,
     "metadata": {},
     "output_type": "execute_result"
    }
   ],
   "source": [
    "a.find('q')"
   ]
  },
  {
   "cell_type": "code",
   "execution_count": 62,
   "id": "d6d6d8a9",
   "metadata": {},
   "outputs": [],
   "source": [
    "#find function used to find the index value of tyhe given string if the string is not available in the input it returns as -1"
   ]
  },
  {
   "cell_type": "code",
   "execution_count": 130,
   "id": "de11974e",
   "metadata": {},
   "outputs": [],
   "source": [
    "a = 'hello'"
   ]
  },
  {
   "cell_type": "code",
   "execution_count": 129,
   "id": "fdfcc82c",
   "metadata": {},
   "outputs": [
    {
     "data": {
      "text/plain": [
       "False"
      ]
     },
     "execution_count": 129,
     "metadata": {},
     "output_type": "execute_result"
    }
   ],
   "source": [
    "a.isalnum()"
   ]
  },
  {
   "cell_type": "code",
   "execution_count": 131,
   "id": "dd78c5ad",
   "metadata": {},
   "outputs": [],
   "source": [
    "a = 'hello heloo'"
   ]
  },
  {
   "cell_type": "code",
   "execution_count": 132,
   "id": "aeb4f64f",
   "metadata": {},
   "outputs": [
    {
     "data": {
      "text/plain": [
       "'hello heloo'"
      ]
     },
     "execution_count": 132,
     "metadata": {},
     "output_type": "execute_result"
    }
   ],
   "source": [
    "a"
   ]
  },
  {
   "cell_type": "code",
   "execution_count": 133,
   "id": "7cd494b8",
   "metadata": {},
   "outputs": [
    {
     "data": {
      "text/plain": [
       "False"
      ]
     },
     "execution_count": 133,
     "metadata": {},
     "output_type": "execute_result"
    }
   ],
   "source": [
    "a.isalnum()"
   ]
  },
  {
   "cell_type": "code",
   "execution_count": null,
   "id": "d721cece",
   "metadata": {},
   "outputs": [],
   "source": [
    "#isalnum function is used to check wheather input string is alpha numeric string or not "
   ]
  },
  {
   "cell_type": "code",
   "execution_count": 112,
   "id": "b50be972",
   "metadata": {},
   "outputs": [],
   "source": [
    "a = 'harshith123'"
   ]
  },
  {
   "cell_type": "code",
   "execution_count": 121,
   "id": "4d5f0b01",
   "metadata": {},
   "outputs": [
    {
     "data": {
      "text/plain": [
       "6"
      ]
     },
     "execution_count": 121,
     "metadata": {},
     "output_type": "execute_result"
    }
   ],
   "source": [
    "a.index('t')"
   ]
  },
  {
   "cell_type": "code",
   "execution_count": 126,
   "id": "fdfdd18a",
   "metadata": {},
   "outputs": [
    {
     "data": {
      "text/plain": [
       "7"
      ]
     },
     "execution_count": 126,
     "metadata": {},
     "output_type": "execute_result"
    }
   ],
   "source": [
    "a.index('2')"
   ]
  },
  {
   "cell_type": "code",
   "execution_count": 127,
   "id": "1ce04a42",
   "metadata": {},
   "outputs": [],
   "source": [
    "#index operation is used to find the index value of the given string "
   ]
  },
  {
   "cell_type": "code",
   "execution_count": 137,
   "id": "530c04b0",
   "metadata": {},
   "outputs": [
    {
     "data": {
      "text/plain": [
       "False"
      ]
     },
     "execution_count": 137,
     "metadata": {},
     "output_type": "execute_result"
    }
   ],
   "source": [
    "a = 'hiihello11222'\n",
    "a.isalpha()"
   ]
  },
  {
   "cell_type": "code",
   "execution_count": 138,
   "id": "55daf48b",
   "metadata": {},
   "outputs": [
    {
     "data": {
      "text/plain": [
       "True"
      ]
     },
     "execution_count": 138,
     "metadata": {},
     "output_type": "execute_result"
    }
   ],
   "source": [
    "a = 'hiihello'\n",
    "a.isalpha()"
   ]
  },
  {
   "cell_type": "code",
   "execution_count": 139,
   "id": "e7f21093",
   "metadata": {},
   "outputs": [
    {
     "data": {
      "text/plain": [
       "False"
      ]
     },
     "execution_count": 139,
     "metadata": {},
     "output_type": "execute_result"
    }
   ],
   "source": [
    "a = 'hii hello'\n",
    "a.isalpha()"
   ]
  },
  {
   "cell_type": "code",
   "execution_count": 140,
   "id": "317d2af3",
   "metadata": {},
   "outputs": [],
   "source": [
    "#isalpha is used to check the alphatic only, there must be only alphabets no spaces or no numbers is be used \n"
   ]
  },
  {
   "cell_type": "code",
   "execution_count": 141,
   "id": "64e22f5f",
   "metadata": {},
   "outputs": [
    {
     "data": {
      "text/plain": [
       "True"
      ]
     },
     "execution_count": 141,
     "metadata": {},
     "output_type": "execute_result"
    }
   ],
   "source": [
    "a = 'ironman is powerful'\n",
    "a.isascii()"
   ]
  },
  {
   "cell_type": "code",
   "execution_count": 142,
   "id": "a6d1d6ba",
   "metadata": {},
   "outputs": [
    {
     "data": {
      "text/plain": [
       "True"
      ]
     },
     "execution_count": 142,
     "metadata": {},
     "output_type": "execute_result"
    }
   ],
   "source": [
    "a = 'ironman is powerful 123'\n",
    "a.isascii()"
   ]
  },
  {
   "cell_type": "code",
   "execution_count": 143,
   "id": "f43a2194",
   "metadata": {},
   "outputs": [
    {
     "data": {
      "text/plain": [
       "True"
      ]
     },
     "execution_count": 143,
     "metadata": {},
     "output_type": "execute_result"
    }
   ],
   "source": [
    "a = 'ironman is powerful @#$'\n",
    "a.isascii()"
   ]
  },
  {
   "cell_type": "code",
   "execution_count": 160,
   "id": "4aec879d",
   "metadata": {},
   "outputs": [
    {
     "data": {
      "text/plain": [
       "True"
      ]
     },
     "execution_count": 160,
     "metadata": {},
     "output_type": "execute_result"
    }
   ],
   "source": [
    "a = '!@#.,=+H$?'\n",
    "a.isascii()"
   ]
  },
  {
   "cell_type": "code",
   "execution_count": 161,
   "id": "5a957e0d",
   "metadata": {},
   "outputs": [],
   "source": [
    "#isascii operator is used to find any ascii values that present in the string"
   ]
  },
  {
   "cell_type": "code",
   "execution_count": 162,
   "id": "a454b103",
   "metadata": {},
   "outputs": [
    {
     "data": {
      "text/plain": [
       "False"
      ]
     },
     "execution_count": 162,
     "metadata": {},
     "output_type": "execute_result"
    }
   ],
   "source": [
    "a = 'ironman123.344'\n",
    "a.isdecimal()\n",
    "\n"
   ]
  },
  {
   "cell_type": "code",
   "execution_count": 163,
   "id": "e17f139f",
   "metadata": {},
   "outputs": [
    {
     "data": {
      "text/plain": [
       "False"
      ]
     },
     "execution_count": 163,
     "metadata": {},
     "output_type": "execute_result"
    }
   ],
   "source": [
    "a = '0.344'\n",
    "a.isdecimal()\n"
   ]
  },
  {
   "cell_type": "code",
   "execution_count": 164,
   "id": "051b5598",
   "metadata": {},
   "outputs": [
    {
     "data": {
      "text/plain": [
       "True"
      ]
     },
     "execution_count": 164,
     "metadata": {},
     "output_type": "execute_result"
    }
   ],
   "source": [
    "a = '22'\n",
    "a.isdecimal()"
   ]
  },
  {
   "cell_type": "code",
   "execution_count": 165,
   "id": "9f35a845",
   "metadata": {},
   "outputs": [],
   "source": [
    "#isdecimal operator is used to identify the non decimal values that are present in the string it returns as true if the ddecimal vvalues is presented in the string it returns as false"
   ]
  },
  {
   "cell_type": "code",
   "execution_count": 167,
   "id": "4a98b489",
   "metadata": {},
   "outputs": [
    {
     "data": {
      "text/plain": [
       "True"
      ]
     },
     "execution_count": 167,
     "metadata": {},
     "output_type": "execute_result"
    }
   ],
   "source": [
    "a = '1234'\n",
    "a.isdigit()"
   ]
  },
  {
   "cell_type": "code",
   "execution_count": 168,
   "id": "2f69581e",
   "metadata": {},
   "outputs": [
    {
     "data": {
      "text/plain": [
       "False"
      ]
     },
     "execution_count": 168,
     "metadata": {},
     "output_type": "execute_result"
    }
   ],
   "source": [
    "a = 'harshith'\n",
    "a.isdigit()"
   ]
  },
  {
   "cell_type": "code",
   "execution_count": 169,
   "id": "4f880421",
   "metadata": {},
   "outputs": [],
   "source": [
    "#isdigit is used to find the digitis in the string if it is presented it returns as true"
   ]
  },
  {
   "cell_type": "code",
   "execution_count": 175,
   "id": "1e89c62f",
   "metadata": {},
   "outputs": [
    {
     "data": {
      "text/plain": [
       "False"
      ]
     },
     "execution_count": 175,
     "metadata": {},
     "output_type": "execute_result"
    }
   ],
   "source": [
    "a = 'harshith  '\n",
    "a.isidentifier()"
   ]
  },
  {
   "cell_type": "code",
   "execution_count": 176,
   "id": "aae6e9d5",
   "metadata": {},
   "outputs": [
    {
     "data": {
      "text/plain": [
       "True"
      ]
     },
     "execution_count": 176,
     "metadata": {},
     "output_type": "execute_result"
    }
   ],
   "source": [
    "a = 'harshith'\n",
    "a.isidentifier()"
   ]
  },
  {
   "cell_type": "code",
   "execution_count": 177,
   "id": "84d839fb",
   "metadata": {},
   "outputs": [],
   "source": [
    "#isidentifier is used to check the proper identifier presented in the python string"
   ]
  },
  {
   "cell_type": "code",
   "execution_count": 179,
   "id": "cd6efe56",
   "metadata": {},
   "outputs": [
    {
     "data": {
      "text/plain": [
       "True"
      ]
     },
     "execution_count": 179,
     "metadata": {},
     "output_type": "execute_result"
    }
   ],
   "source": [
    "a.islower()"
   ]
  },
  {
   "cell_type": "code",
   "execution_count": 180,
   "id": "56e49f10",
   "metadata": {},
   "outputs": [],
   "source": [
    "#islower is used to check the string is in lowercase or not"
   ]
  },
  {
   "cell_type": "code",
   "execution_count": 181,
   "id": "518cb051",
   "metadata": {},
   "outputs": [
    {
     "data": {
      "text/plain": [
       "False"
      ]
     },
     "execution_count": 181,
     "metadata": {},
     "output_type": "execute_result"
    }
   ],
   "source": [
    "a.isnumeric()"
   ]
  },
  {
   "cell_type": "code",
   "execution_count": 182,
   "id": "0569b16c",
   "metadata": {},
   "outputs": [],
   "source": [
    "#isnumeric is used to find the string has any numeric variables or not "
   ]
  },
  {
   "cell_type": "code",
   "execution_count": 193,
   "id": "0d13d4df",
   "metadata": {},
   "outputs": [
    {
     "data": {
      "text/plain": [
       "True"
      ]
     },
     "execution_count": 193,
     "metadata": {},
     "output_type": "execute_result"
    }
   ],
   "source": [
    "a = 'harshith'\n",
    "a.isprintable()"
   ]
  },
  {
   "cell_type": "code",
   "execution_count": 194,
   "id": "350b7e1b",
   "metadata": {},
   "outputs": [],
   "source": [
    "#isprintabel is used to identifies that the string is printable or not "
   ]
  },
  {
   "cell_type": "code",
   "execution_count": 209,
   "id": "78842ee8",
   "metadata": {},
   "outputs": [
    {
     "data": {
      "text/plain": [
       "True"
      ]
     },
     "execution_count": 209,
     "metadata": {},
     "output_type": "execute_result"
    }
   ],
   "source": [
    "a = '     '\n",
    "a.isspace()"
   ]
  },
  {
   "cell_type": "code",
   "execution_count": 210,
   "id": "5e98d1fe",
   "metadata": {},
   "outputs": [
    {
     "data": {
      "text/plain": [
       "False"
      ]
     },
     "execution_count": 210,
     "metadata": {},
     "output_type": "execute_result"
    }
   ],
   "source": [
    "a = '  harshith   '\n",
    "a.isspace()"
   ]
  },
  {
   "cell_type": "code",
   "execution_count": 239,
   "id": "fd1e46d3",
   "metadata": {},
   "outputs": [],
   "source": [
    "#isspace is used to find that any whitespaces or blank space that are presented in the string is printed "
   ]
  },
  {
   "cell_type": "code",
   "execution_count": 235,
   "id": "e7b56fc2",
   "metadata": {},
   "outputs": [
    {
     "data": {
      "text/plain": [
       "False"
      ]
     },
     "execution_count": 235,
     "metadata": {},
     "output_type": "execute_result"
    }
   ],
   "source": [
    "a = 'this is python '\n",
    "a.istitle()"
   ]
  },
  {
   "cell_type": "code",
   "execution_count": 225,
   "id": "9973c183",
   "metadata": {},
   "outputs": [
    {
     "data": {
      "text/plain": [
       "False"
      ]
     },
     "execution_count": 225,
     "metadata": {},
     "output_type": "execute_result"
    }
   ],
   "source": [
    "a = 'THIS IS PYTHON '\n",
    "a.istitle()"
   ]
  },
  {
   "cell_type": "code",
   "execution_count": 241,
   "id": "6792c618",
   "metadata": {},
   "outputs": [
    {
     "data": {
      "text/plain": [
       "True"
      ]
     },
     "execution_count": 241,
     "metadata": {},
     "output_type": "execute_result"
    }
   ],
   "source": [
    "a = 'Hi Iam Harshith'\n",
    "a.istitle()"
   ]
  },
  {
   "cell_type": "code",
   "execution_count": 242,
   "id": "8e9a6a22",
   "metadata": {},
   "outputs": [],
   "source": [
    "#istitle is used to check that the string is printed as title or not "
   ]
  },
  {
   "cell_type": "code",
   "execution_count": 244,
   "id": "8bfb14f4",
   "metadata": {},
   "outputs": [
    {
     "data": {
      "text/plain": [
       "False"
      ]
     },
     "execution_count": 244,
     "metadata": {},
     "output_type": "execute_result"
    }
   ],
   "source": [
    "a = 'harshith'\n",
    "a.isupper()"
   ]
  },
  {
   "cell_type": "code",
   "execution_count": 245,
   "id": "992eb185",
   "metadata": {},
   "outputs": [
    {
     "data": {
      "text/plain": [
       "True"
      ]
     },
     "execution_count": 245,
     "metadata": {},
     "output_type": "execute_result"
    }
   ],
   "source": [
    "a = 'HARSHITH'\n",
    "a.isupper()"
   ]
  },
  {
   "cell_type": "code",
   "execution_count": 246,
   "id": "a09e5289",
   "metadata": {},
   "outputs": [],
   "source": [
    "#isupper is used to find that the string has the uppercase or not"
   ]
  },
  {
   "cell_type": "code",
   "execution_count": 255,
   "id": "e087bcf2",
   "metadata": {},
   "outputs": [
    {
     "data": {
      "text/plain": [
       "'*HARSHITH*'"
      ]
     },
     "execution_count": 255,
     "metadata": {},
     "output_type": "execute_result"
    }
   ],
   "source": [
    "a = 'HARSHITH'\n",
    "a.join('**')\n"
   ]
  },
  {
   "cell_type": "code",
   "execution_count": 256,
   "id": "b9efc765",
   "metadata": {},
   "outputs": [
    {
     "data": {
      "text/plain": [
       "'aHARSHITHa'"
      ]
     },
     "execution_count": 256,
     "metadata": {},
     "output_type": "execute_result"
    }
   ],
   "source": [
    "a = 'HARSHITH'\n",
    "a.join('aa')\n"
   ]
  },
  {
   "cell_type": "code",
   "execution_count": 257,
   "id": "f4f0fdef",
   "metadata": {},
   "outputs": [],
   "source": [
    "#join is used to add at the both side of the string in the front and the back "
   ]
  },
  {
   "cell_type": "code",
   "execution_count": 280,
   "id": "9c4f697d",
   "metadata": {},
   "outputs": [
    {
     "data": {
      "text/plain": [
       "'HARSHITH                                          '"
      ]
     },
     "execution_count": 280,
     "metadata": {},
     "output_type": "execute_result"
    }
   ],
   "source": [
    "a.ljust(50)"
   ]
  },
  {
   "cell_type": "code",
   "execution_count": 281,
   "id": "d92791b6",
   "metadata": {},
   "outputs": [
    {
     "data": {
      "text/plain": [
       "'HARSHITH                                                                                                                                                  '"
      ]
     },
     "execution_count": 281,
     "metadata": {},
     "output_type": "execute_result"
    }
   ],
   "source": [
    "a.ljust(154)"
   ]
  },
  {
   "cell_type": "code",
   "execution_count": 282,
   "id": "052d0e78",
   "metadata": {},
   "outputs": [],
   "source": [
    "#ljust is used to print the given number of values that has been leaved as a blankspace"
   ]
  },
  {
   "cell_type": "code",
   "execution_count": 286,
   "id": "fa77583b",
   "metadata": {},
   "outputs": [
    {
     "data": {
      "text/plain": [
       "'harshith'"
      ]
     },
     "execution_count": 286,
     "metadata": {},
     "output_type": "execute_result"
    }
   ],
   "source": [
    "a = 'HARSHITH'\n",
    "a.lower()"
   ]
  },
  {
   "cell_type": "code",
   "execution_count": 287,
   "id": "9ca8d6fa",
   "metadata": {},
   "outputs": [],
   "source": [
    "#lower is used to change the input string into lower case"
   ]
  },
  {
   "cell_type": "code",
   "execution_count": 289,
   "id": "51431222",
   "metadata": {},
   "outputs": [
    {
     "data": {
      "text/plain": [
       "'harshith  '"
      ]
     },
     "execution_count": 289,
     "metadata": {},
     "output_type": "execute_result"
    }
   ],
   "source": [
    "a = 'harshith  '\n",
    "a.lstrip()"
   ]
  },
  {
   "cell_type": "code",
   "execution_count": 291,
   "id": "fe2f16a6",
   "metadata": {},
   "outputs": [
    {
     "data": {
      "text/plain": [
       "'HARSHITH  '"
      ]
     },
     "execution_count": 291,
     "metadata": {},
     "output_type": "execute_result"
    }
   ],
   "source": [
    "a = 'HARSHITH  '\n",
    "a.lstrip()"
   ]
  },
  {
   "cell_type": "code",
   "execution_count": 292,
   "id": "a094605d",
   "metadata": {},
   "outputs": [],
   "source": [
    "#lstrip is used to copy the string with the blankspace"
   ]
  },
  {
   "cell_type": "code",
   "execution_count": 306,
   "id": "7e4c4716",
   "metadata": {},
   "outputs": [
    {
     "data": {
      "text/plain": [
       "('HARSHITH  ', '', '')"
      ]
     },
     "execution_count": 306,
     "metadata": {},
     "output_type": "execute_result"
    }
   ],
   "source": [
    "a.partition('0')"
   ]
  },
  {
   "cell_type": "code",
   "execution_count": null,
   "id": "1de0f00b",
   "metadata": {},
   "outputs": [],
   "source": []
  }
 ],
 "metadata": {
  "kernelspec": {
   "display_name": "Python 3 (ipykernel)",
   "language": "python",
   "name": "python3"
  },
  "language_info": {
   "codemirror_mode": {
    "name": "ipython",
    "version": 3
   },
   "file_extension": ".py",
   "mimetype": "text/x-python",
   "name": "python",
   "nbconvert_exporter": "python",
   "pygments_lexer": "ipython3",
   "version": "3.9.13"
  }
 },
 "nbformat": 4,
 "nbformat_minor": 5
}
